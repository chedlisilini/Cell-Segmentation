{
 "cells": [
  {
   "attachments": {},
   "cell_type": "markdown",
   "metadata": {},
   "source": [
    "### Imports"
   ]
  },
  {
   "cell_type": "code",
   "execution_count": 3,
   "metadata": {},
   "outputs": [],
   "source": [
    "import glob\n",
    "import os\n",
    "import shutil\n",
    "import zipfile\n",
    "import requests"
   ]
  },
  {
   "attachments": {},
   "cell_type": "markdown",
   "metadata": {},
   "source": [
    "### Download the data"
   ]
  },
  {
   "cell_type": "code",
   "execution_count": 5,
   "metadata": {},
   "outputs": [],
   "source": [
    "images = requests.get('https://data.broadinstitute.org/bbbc/BBBC039/images.zip')\n",
    "masks = requests.get('https://data.broadinstitute.org/bbbc/BBBC039/masks.zip')\n",
    "metadata = requests.get('https://data.broadinstitute.org/bbbc/BBBC039/metadata.zip')"
   ]
  },
  {
   "cell_type": "code",
   "execution_count": 6,
   "metadata": {},
   "outputs": [],
   "source": [
    "assert images.ok\n",
    "assert masks.ok\n",
    "assert metadata.ok"
   ]
  },
  {
   "attachments": {},
   "cell_type": "markdown",
   "metadata": {},
   "source": [
    "### Save the data"
   ]
  },
  {
   "cell_type": "code",
   "execution_count": 14,
   "metadata": {},
   "outputs": [],
   "source": [
    "def save_raw_data(path , raw, zip):\n",
    "    images_zip = os.path.join(path, zip+'.zip' )\n",
    "    os.makedirs(path, exist_ok=True)\n",
    "    with open(images_zip, 'wb') as f:\n",
    "        f.write(raw.content)\n",
    "    \n",
    "    zip_ref = zipfile.ZipFile(images_zip, 'r')\n",
    "    for file in zip_ref.namelist():\n",
    "        if file.startswith(zip+'/'):\n",
    "            zip_ref.extract(file, path)\n",
    "\n",
    "    zip_ref.close()\n",
    "    os.remove(images_zip)\n",
    "\n",
    "    for file in glob.glob(os.path.join(path, zip+'/*')):\n",
    "        shutil.move(file, path)\n",
    "\n",
    "    shutil.rmtree(os.path.join(path, zip))"
   ]
  },
  {
   "cell_type": "code",
   "execution_count": 16,
   "metadata": {},
   "outputs": [],
   "source": [
    "save_raw_data( 'data/raw/images', images , 'images')\n",
    "save_raw_data('data/raw/masks', masks, 'masks')\n",
    "save_raw_data('data/raw/metadata', metadata, 'metadata')"
   ]
  }
 ],
 "metadata": {
  "kernelspec": {
   "display_name": "Python 3",
   "language": "python",
   "name": "python3"
  },
  "language_info": {
   "codemirror_mode": {
    "name": "ipython",
    "version": 3
   },
   "file_extension": ".py",
   "mimetype": "text/x-python",
   "name": "python",
   "nbconvert_exporter": "python",
   "pygments_lexer": "ipython3",
   "version": "3.11.3"
  },
  "orig_nbformat": 4
 },
 "nbformat": 4,
 "nbformat_minor": 2
}
